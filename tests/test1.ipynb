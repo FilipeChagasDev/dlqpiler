{
 "cells": [
  {
   "cell_type": "code",
   "execution_count": 1,
   "metadata": {},
   "outputs": [],
   "source": [
    "from dlqpiler import parser\n",
    "from ply import yacc\n",
    "from pprint import pprint"
   ]
  },
  {
   "cell_type": "code",
   "execution_count": 2,
   "metadata": {},
   "outputs": [
    {
     "name": "stdout",
     "output_type": "stream",
     "text": [
      "{'sequence': [{'name': 'a',\n",
      "               'size': 3,\n",
      "               'type': 'RegisterSetDefinition',\n",
      "               'values': {1, 2, 3}},\n",
      "              {'name': 'b',\n",
      "               'size': 5,\n",
      "               'type': 'RegisterSetDefinition',\n",
      "               'values': {4, 5, 6}},\n",
      "              {'expr': {'operands': [{'operands': [{'label': 'a',\n",
      "                                                    'type': 'Identifier'},\n",
      "                                                   3],\n",
      "                                      'signals': ['+', '+'],\n",
      "                                      'type': 'Product'},\n",
      "                                     {'operands': [{'label': 'b',\n",
      "                                                    'type': 'Identifier'},\n",
      "                                                   2],\n",
      "                                      'signals': ['+', '+'],\n",
      "                                      'type': 'Product'}],\n",
      "                        'signals': ['+', '+'],\n",
      "                        'type': 'Summation'},\n",
      "               'name': 'c',\n",
      "               'size': 6,\n",
      "               'type': 'RegisterExpressionDefinition'},\n",
      "              {'expr': {'left': {'label': 'c', 'type': 'Identifier'},\n",
      "                        'right': 1,\n",
      "                        'type': 'Equal'},\n",
      "               'name': 'd',\n",
      "               'size': 1,\n",
      "               'type': 'RegisterExpressionDefinition'}],\n",
      " 'terminator': {'iterations': 1, 'target': 'd', 'type': 'Amplify'},\n",
      " 'type': 'FullCode'}\n"
     ]
    }
   ],
   "source": [
    "pprint(yacc.parse('''\n",
    "    a[3] in {1, 2, 3};\n",
    "    b[5] in {4, 5, 6};\n",
    "    c[6] := a*3 + b*2;\n",
    "    d[1] := c = 1;\n",
    "    amplify d 1 times\n",
    "''').to_dict())"
   ]
  },
  {
   "cell_type": "code",
   "execution_count": 3,
   "metadata": {},
   "outputs": [
    {
     "name": "stdout",
     "output_type": "stream",
     "text": [
      "{'sequence': [{'name': 'a',\n",
      "               'size': 3,\n",
      "               'type': 'RegisterSetDefinition',\n",
      "               'values': {1, 2, 3}},\n",
      "              {'name': 'b',\n",
      "               'size': 5,\n",
      "               'type': 'RegisterSetDefinition',\n",
      "               'values': {4, 5, 6}},\n",
      "              {'expr': {'operands': [{'base_expr': {'label': 'a',\n",
      "                                                    'type': 'Identifier'},\n",
      "                                      'exponent': 3,\n",
      "                                      'type': 'Power'},\n",
      "                                     {'base_expr': {'label': 'b',\n",
      "                                                    'type': 'Identifier'},\n",
      "                                      'exponent': 2,\n",
      "                                      'type': 'Power'}],\n",
      "                        'signals': ['+', '+'],\n",
      "                        'type': 'Summation'},\n",
      "               'name': 'c',\n",
      "               'size': 6,\n",
      "               'type': 'RegisterExpressionDefinition'},\n",
      "              {'expr': {'left': {'label': 'c', 'type': 'Identifier'},\n",
      "                        'right': 1,\n",
      "                        'type': 'Equal'},\n",
      "               'name': 'd',\n",
      "               'size': 1,\n",
      "               'type': 'RegisterExpressionDefinition'}],\n",
      " 'terminator': {'iterations': 1, 'target': 'd', 'type': 'Amplify'},\n",
      " 'type': 'FullCode'}\n"
     ]
    }
   ],
   "source": [
    "pprint(yacc.parse('''\n",
    "    a[3] in {1, 2, 3};\n",
    "    b[5] in {4, 5, 6};\n",
    "    c[6] := a^3 + b^2;\n",
    "    d[1] := c = 1;\n",
    "    amplify d 1 times\n",
    "''').to_dict())"
   ]
  },
  {
   "cell_type": "code",
   "execution_count": 4,
   "metadata": {},
   "outputs": [
    {
     "name": "stdout",
     "output_type": "stream",
     "text": [
      "{'sequence': [{'name': 'a',\n",
      "               'size': 3,\n",
      "               'type': 'RegisterSetDefinition',\n",
      "               'values': {1, 2, 3}},\n",
      "              {'name': 'b',\n",
      "               'size': 5,\n",
      "               'type': 'RegisterSetDefinition',\n",
      "               'values': {4, 5, 6}},\n",
      "              {'expr': {'operands': [{'operands': [3,\n",
      "                                                   {'base_expr': {'label': 'a',\n",
      "                                                                  'type': 'Identifier'},\n",
      "                                                    'exponent': 3,\n",
      "                                                    'type': 'Power'}],\n",
      "                                      'signals': ['+', '+'],\n",
      "                                      'type': 'Product'},\n",
      "                                     {'operands': [2,\n",
      "                                                   {'base_expr': {'label': 'b',\n",
      "                                                                  'type': 'Identifier'},\n",
      "                                                    'exponent': 2,\n",
      "                                                    'type': 'Power'}],\n",
      "                                      'signals': ['+', '+'],\n",
      "                                      'type': 'Product'}],\n",
      "                        'signals': ['+', '+'],\n",
      "                        'type': 'Summation'},\n",
      "               'name': 'c',\n",
      "               'size': 6,\n",
      "               'type': 'RegisterExpressionDefinition'},\n",
      "              {'expr': {'left': {'label': 'c', 'type': 'Identifier'},\n",
      "                        'right': 1,\n",
      "                        'type': 'Equal'},\n",
      "               'name': 'd',\n",
      "               'size': 1,\n",
      "               'type': 'RegisterExpressionDefinition'}],\n",
      " 'terminator': {'iterations': 1, 'target': 'd', 'type': 'Amplify'},\n",
      " 'type': 'FullCode'}\n"
     ]
    }
   ],
   "source": [
    "pprint(yacc.parse('''\n",
    "    a[3] in {1, 2, 3};\n",
    "    b[5] in {4, 5, 6};\n",
    "    c[6] := 3*a^3 + 2*b^2;\n",
    "    d[1] := c = 1;\n",
    "    amplify d 1 times\n",
    "''').to_dict())"
   ]
  },
  {
   "cell_type": "code",
   "execution_count": 8,
   "metadata": {},
   "outputs": [
    {
     "name": "stdout",
     "output_type": "stream",
     "text": [
      "{'sequence': [{'name': 'a',\n",
      "               'size': 10,\n",
      "               'type': 'RegisterSetDefinition',\n",
      "               'values': {0, 1}}],\n",
      " 'terminator': {'iterations': 1, 'target': 'x', 'type': 'Amplify'},\n",
      " 'type': 'FullCode'}\n"
     ]
    }
   ],
   "source": [
    "pprint(yacc.parse('''\n",
    "    a[10] in {true and true, true and false, false and false, true or true, true or false, false or false, not false, not true};\n",
    "    amplify x 1 times\n",
    "''').to_dict())"
   ]
  }
 ],
 "metadata": {
  "kernelspec": {
   "display_name": "Python 3",
   "language": "python",
   "name": "python3"
  },
  "language_info": {
   "codemirror_mode": {
    "name": "ipython",
    "version": 3
   },
   "file_extension": ".py",
   "mimetype": "text/x-python",
   "name": "python",
   "nbconvert_exporter": "python",
   "pygments_lexer": "ipython3",
   "version": "3.10.11"
  },
  "orig_nbformat": 4
 },
 "nbformat": 4,
 "nbformat_minor": 2
}
